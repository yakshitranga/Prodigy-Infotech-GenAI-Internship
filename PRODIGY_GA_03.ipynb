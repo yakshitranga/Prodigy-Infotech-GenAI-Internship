{
  "nbformat": 4,
  "nbformat_minor": 0,
  "metadata": {
    "colab": {
      "provenance": []
    },
    "kernelspec": {
      "name": "python3",
      "display_name": "Python 3"
    },
    "language_info": {
      "name": "python"
    }
  },
  "cells": [
    {
      "cell_type": "code",
      "execution_count": 1,
      "metadata": {
        "id": "fq_Xh5-IMTXr"
      },
      "outputs": [],
      "source": [
        "import random"
      ]
    },
    {
      "cell_type": "code",
      "source": [
        "transitions = {\n",
        "    'start': {'the': 0.2, 'a': 0.1, 'he': 0.1, 'she': 0.1},\n",
        "    'the': {'small': 0.5, 'lazy': 0.5},\n",
        "    'a': {'small': 0.5, 'lazy': 0.5},\n",
        "    'he': {'small': 0.5, 'lazy': 0.5},\n",
        "    'she': {'small': 0.5, 'lazy': 0.5},\n",
        "    'small': {'brown': 1.0},\n",
        "    'lazy': {'cat': 1.0},\n",
        "    'brown': {'dog': 1.0},\n",
        "    'cat': {'jumped': 1.0},\n",
        "    'jumped': {'over': 1.0, 'end': 1.0},\n",
        "    'over': {'the': 0.5, 'a': 0.5},\n",
        "    'dog': {'end': 1.0},\n",
        "    'end': {}\n",
        "}"
      ],
      "metadata": {
        "id": "k0A3VOY_MdKV"
      },
      "execution_count": 2,
      "outputs": []
    },
    {
      "cell_type": "code",
      "source": [
        "def generate_text(length):\n",
        "    current_word = random.choice(list(transitions['start'].keys()))\n",
        "    text = [current_word]\n",
        "    for _ in range(length - 1):\n",
        "        next_word = random.choices(\n",
        "            list(transitions[current_word].keys()),\n",
        "            weights=list(transitions[current_word].values()),\n",
        "            k=1\n",
        "        )[0]\n",
        "        if next_word == 'end':\n",
        "            break\n",
        "        text.append(next_word)\n",
        "        current_word = next_word\n",
        "    return ' '.join(text)\n",
        "print(generate_text(10))"
      ],
      "metadata": {
        "id": "BXVvG9-uMh4Q",
        "colab": {
          "base_uri": "https://localhost:8080/"
        },
        "outputId": "6656ec36-cd67-429c-97e8-07a3a438c934"
      },
      "execution_count": 3,
      "outputs": [
        {
          "output_type": "stream",
          "name": "stdout",
          "text": [
            "she small brown dog\n"
          ]
        }
      ]
    }
  ]
}